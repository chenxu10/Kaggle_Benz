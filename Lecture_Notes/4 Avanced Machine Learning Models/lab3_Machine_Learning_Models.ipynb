{
 "cells": [
  {
   "cell_type": "markdown",
   "metadata": {},
   "source": [
    "## Data Preparation for Machine Learning Models on Benz Data Set"
   ]
  },
  {
   "cell_type": "code",
   "execution_count": 1,
   "metadata": {},
   "outputs": [],
   "source": [
    "import numpy as np\n",
    "import pandas as pd\n",
    "import matplotlib.pyplot as plt\n",
    "import seaborn as sns\n",
    "%matplotlib inline\n",
    "import scipy\n",
    "import sklearn"
   ]
  },
  {
   "cell_type": "code",
   "execution_count": 2,
   "metadata": {},
   "outputs": [],
   "source": [
    "trainDF=pd.read_csv(\"train.csv\")\n",
    "testDF=pd.read_csv(\"test.csv\")"
   ]
  },
  {
   "cell_type": "code",
   "execution_count": 3,
   "metadata": {},
   "outputs": [],
   "source": [
    "# Preparing the X_train, Y_train, X_test, Y_id\n",
    "independent_columns=list(set(trainDF.columns) - set(['ID', 'y']))\n",
    "# generate an array\n",
    "y_train=trainDF['y'].values\n",
    "# generate a train data frame\n",
    "x_train=trainDF[independent_columns]\n",
    "# load in the test data set\n",
    "testDF=pd.read_csv(\"test.csv\")\n",
    "x_test=testDF[independent_columns]"
   ]
  },
  {
   "cell_type": "markdown",
   "metadata": {},
   "source": [
    "## Lasso regression model on Benz Problem"
   ]
  },
  {
   "cell_type": "code",
   "execution_count": 28,
   "metadata": {},
   "outputs": [],
   "source": [
    "quantitative_columns=list(set(trainDF.columns) - set(['ID', 'y'])-set(['X%s'% c for c in range(9)]))\n",
    "x_train=trainDF[quantitative_columns]\n",
    "x_test=testDF[quantitative_columns]"
   ]
  },
  {
   "cell_type": "code",
   "execution_count": 29,
   "metadata": {},
   "outputs": [
    {
     "data": {
      "text/plain": [
       "array([ 80.01282823,  95.57210878,  80.63926038, ...,  91.68193716,\n",
       "       110.48213843,  95.07959303])"
      ]
     },
     "execution_count": 29,
     "metadata": {},
     "output_type": "execute_result"
    }
   ],
   "source": [
    "from sklearn import linear_model\n",
    "reg=linear_model.Lasso(alpha=0.1) # the constant that multiplies the L1 term\n",
    "reg.fit(x_train,y_train)\n",
    "reg.predict(x_test)"
   ]
  },
  {
   "cell_type": "markdown",
   "metadata": {},
   "source": [
    "## SVM"
   ]
  },
  {
   "cell_type": "code",
   "execution_count": 33,
   "metadata": {},
   "outputs": [
    {
     "data": {
      "text/plain": [
       "array([ 83.17967249,  94.80454665,  88.1313738 , ...,  93.258976  ,\n",
       "       107.49674369,  93.69305765])"
      ]
     },
     "execution_count": 33,
     "metadata": {},
     "output_type": "execute_result"
    }
   ],
   "source": [
    "from sklearn.svm import SVR\n",
    "reg2=SVR(C=1.0, epsilon=0.2)\n",
    "reg2.fit(x_train,y_train)\n",
    "reg2.predict(x_test)"
   ]
  },
  {
   "cell_type": "markdown",
   "metadata": {},
   "source": [
    "## Random Forest"
   ]
  },
  {
   "cell_type": "code",
   "execution_count": 36,
   "metadata": {},
   "outputs": [
    {
     "data": {
      "text/plain": [
       "array([ 78.38804233,  94.11690476,  77.24685405, ...,  91.88661   ,\n",
       "       108.4152747 ,  93.41569821])"
      ]
     },
     "execution_count": 36,
     "metadata": {},
     "output_type": "execute_result"
    }
   ],
   "source": [
    "from sklearn.ensemble import RandomForestRegressor\n",
    "reg3=RandomForestRegressor(n_estimators=100,max_features=30)\n",
    "reg3.fit(x_train,y_train)\n",
    "reg3.predict(x_test)"
   ]
  },
  {
   "cell_type": "markdown",
   "metadata": {},
   "source": [
    "## Gradient Boosting"
   ]
  },
  {
   "cell_type": "code",
   "execution_count": 37,
   "metadata": {},
   "outputs": [
    {
     "data": {
      "text/plain": [
       "array([ 96.81997973, 117.14049203,  97.29844259, ...,  92.10884237,\n",
       "       111.71035008,  93.47253363])"
      ]
     },
     "execution_count": 37,
     "metadata": {},
     "output_type": "execute_result"
    }
   ],
   "source": [
    "from sklearn.ensemble import GradientBoostingRegressor\n",
    "reg4=GradientBoostingRegressor(n_estimators=100)\n",
    "reg4.fit(x_train,y_train)\n",
    "reg4.predict(x_test)"
   ]
  }
 ],
 "metadata": {
  "kernelspec": {
   "display_name": "Python 3",
   "language": "python",
   "name": "python3"
  },
  "language_info": {
   "codemirror_mode": {
    "name": "ipython",
    "version": 3
   },
   "file_extension": ".py",
   "mimetype": "text/x-python",
   "name": "python",
   "nbconvert_exporter": "python",
   "pygments_lexer": "ipython3",
   "version": "3.6.4"
  }
 },
 "nbformat": 4,
 "nbformat_minor": 2
}
