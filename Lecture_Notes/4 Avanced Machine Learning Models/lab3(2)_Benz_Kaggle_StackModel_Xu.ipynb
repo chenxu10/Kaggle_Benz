{
 "cells": [
  {
   "cell_type": "markdown",
   "metadata": {},
   "source": [
    "## Prepare for the environment"
   ]
  },
  {
   "cell_type": "code",
   "execution_count": 1,
   "metadata": {},
   "outputs": [
    {
     "data": {
      "text/html": [
       "<script>requirejs.config({paths: { 'plotly': ['https://cdn.plot.ly/plotly-latest.min']},});if(!window.Plotly) {{require(['plotly'],function(plotly) {window.Plotly=plotly;});}}</script>"
      ],
      "text/vnd.plotly.v1+html": [
       "<script>requirejs.config({paths: { 'plotly': ['https://cdn.plot.ly/plotly-latest.min']},});if(!window.Plotly) {{require(['plotly'],function(plotly) {window.Plotly=plotly;});}}</script>"
      ]
     },
     "metadata": {},
     "output_type": "display_data"
    }
   ],
   "source": [
    "# Load in our libraries\n",
    "import pandas as pd\n",
    "import numpy as np\n",
    "import re\n",
    "import sklearn\n",
    "import xgboost as xgb\n",
    "import seaborn as sns\n",
    "import matplotlib.pyplot as plt\n",
    "%matplotlib inline\n",
    "\n",
    "import plotly.offline as py\n",
    "py.init_notebook_mode(connected=True)\n",
    "import plotly.graph_objs as go\n",
    "import plotly.tools as tls\n",
    "\n",
    "import warnings\n",
    "warnings.filterwarnings('ignore')\n",
    "\n",
    "# Going to use these 5 base models for the stacking\n",
    "from sklearn.ensemble import (RandomForestRegressor, AdaBoostRegressor, \n",
    "                              GradientBoostingRegressor, ExtraTreesRegressor)\n",
    "from sklearn.svm import SVR\n",
    "from sklearn.cross_validation import KFold"
   ]
  },
  {
   "cell_type": "markdown",
   "metadata": {},
   "source": [
    "## Feature Exploration, Engineering and Cleaning"
   ]
  },
  {
   "cell_type": "code",
   "execution_count": 2,
   "metadata": {},
   "outputs": [
    {
     "data": {
      "text/html": [
       "<div>\n",
       "<style scoped>\n",
       "    .dataframe tbody tr th:only-of-type {\n",
       "        vertical-align: middle;\n",
       "    }\n",
       "\n",
       "    .dataframe tbody tr th {\n",
       "        vertical-align: top;\n",
       "    }\n",
       "\n",
       "    .dataframe thead th {\n",
       "        text-align: right;\n",
       "    }\n",
       "</style>\n",
       "<table border=\"1\" class=\"dataframe\">\n",
       "  <thead>\n",
       "    <tr style=\"text-align: right;\">\n",
       "      <th></th>\n",
       "      <th>ID</th>\n",
       "      <th>y</th>\n",
       "      <th>X0</th>\n",
       "      <th>X1</th>\n",
       "      <th>X2</th>\n",
       "      <th>X3</th>\n",
       "      <th>X4</th>\n",
       "      <th>X5</th>\n",
       "      <th>X6</th>\n",
       "      <th>X8</th>\n",
       "      <th>...</th>\n",
       "      <th>X375</th>\n",
       "      <th>X376</th>\n",
       "      <th>X377</th>\n",
       "      <th>X378</th>\n",
       "      <th>X379</th>\n",
       "      <th>X380</th>\n",
       "      <th>X382</th>\n",
       "      <th>X383</th>\n",
       "      <th>X384</th>\n",
       "      <th>X385</th>\n",
       "    </tr>\n",
       "  </thead>\n",
       "  <tbody>\n",
       "    <tr>\n",
       "      <th>0</th>\n",
       "      <td>0</td>\n",
       "      <td>130.81</td>\n",
       "      <td>k</td>\n",
       "      <td>v</td>\n",
       "      <td>at</td>\n",
       "      <td>a</td>\n",
       "      <td>d</td>\n",
       "      <td>u</td>\n",
       "      <td>j</td>\n",
       "      <td>o</td>\n",
       "      <td>...</td>\n",
       "      <td>0</td>\n",
       "      <td>0</td>\n",
       "      <td>1</td>\n",
       "      <td>0</td>\n",
       "      <td>0</td>\n",
       "      <td>0</td>\n",
       "      <td>0</td>\n",
       "      <td>0</td>\n",
       "      <td>0</td>\n",
       "      <td>0</td>\n",
       "    </tr>\n",
       "    <tr>\n",
       "      <th>1</th>\n",
       "      <td>6</td>\n",
       "      <td>88.53</td>\n",
       "      <td>k</td>\n",
       "      <td>t</td>\n",
       "      <td>av</td>\n",
       "      <td>e</td>\n",
       "      <td>d</td>\n",
       "      <td>y</td>\n",
       "      <td>l</td>\n",
       "      <td>o</td>\n",
       "      <td>...</td>\n",
       "      <td>1</td>\n",
       "      <td>0</td>\n",
       "      <td>0</td>\n",
       "      <td>0</td>\n",
       "      <td>0</td>\n",
       "      <td>0</td>\n",
       "      <td>0</td>\n",
       "      <td>0</td>\n",
       "      <td>0</td>\n",
       "      <td>0</td>\n",
       "    </tr>\n",
       "    <tr>\n",
       "      <th>2</th>\n",
       "      <td>7</td>\n",
       "      <td>76.26</td>\n",
       "      <td>az</td>\n",
       "      <td>w</td>\n",
       "      <td>n</td>\n",
       "      <td>c</td>\n",
       "      <td>d</td>\n",
       "      <td>x</td>\n",
       "      <td>j</td>\n",
       "      <td>x</td>\n",
       "      <td>...</td>\n",
       "      <td>0</td>\n",
       "      <td>0</td>\n",
       "      <td>0</td>\n",
       "      <td>0</td>\n",
       "      <td>0</td>\n",
       "      <td>0</td>\n",
       "      <td>1</td>\n",
       "      <td>0</td>\n",
       "      <td>0</td>\n",
       "      <td>0</td>\n",
       "    </tr>\n",
       "  </tbody>\n",
       "</table>\n",
       "<p>3 rows × 378 columns</p>\n",
       "</div>"
      ],
      "text/plain": [
       "   ID       y  X0 X1  X2 X3 X4 X5 X6 X8  ...   X375  X376  X377  X378  X379  \\\n",
       "0   0  130.81   k  v  at  a  d  u  j  o  ...      0     0     1     0     0   \n",
       "1   6   88.53   k  t  av  e  d  y  l  o  ...      1     0     0     0     0   \n",
       "2   7   76.26  az  w   n  c  d  x  j  x  ...      0     0     0     0     0   \n",
       "\n",
       "   X380  X382  X383  X384  X385  \n",
       "0     0     0     0     0     0  \n",
       "1     0     0     0     0     0  \n",
       "2     0     1     0     0     0  \n",
       "\n",
       "[3 rows x 378 columns]"
      ]
     },
     "execution_count": 2,
     "metadata": {},
     "output_type": "execute_result"
    }
   ],
   "source": [
    "trainDF=pd.read_csv(\"train.csv\")\n",
    "# observe the data\n",
    "trainDF.head(3)"
   ]
  },
  {
   "cell_type": "code",
   "execution_count": 3,
   "metadata": {},
   "outputs": [
    {
     "data": {
      "text/plain": [
       "int64     368\n",
       "object      8\n",
       "dtype: int64"
      ]
     },
     "execution_count": 3,
     "metadata": {},
     "output_type": "execute_result"
    }
   ],
   "source": [
    "# get a list of all the independent variables\n",
    "cols=[c for c in trainDF.columns if 'X' in c]\n",
    "# use data types to check how many quantitative variables and how many categorical variables\n",
    "trainDF[cols].dtypes.value_counts()"
   ]
  },
  {
   "cell_type": "markdown",
   "metadata": {},
   "source": [
    "We havev 368 quantitative variables and 8 categorical variables "
   ]
  },
  {
   "cell_type": "code",
   "execution_count": 4,
   "metadata": {},
   "outputs": [],
   "source": [
    "independent_columns=list(set(trainDF.columns) - set(['ID', 'y']))\n",
    "y_train=trainDF['y'].values\n",
    "x_train=trainDF[independent_columns]\n",
    "testDF=pd.read_csv(\"test.csv\")\n",
    "x_test=testDF[independent_columns]"
   ]
  },
  {
   "cell_type": "code",
   "execution_count": 5,
   "metadata": {},
   "outputs": [],
   "source": [
    "# Feature engineering steps for categorical variables\n",
    "for column in independent_columns:\n",
    "    cardinality=len(np.unique(x_train[column]))\n",
    "    if cardinality==1:\n",
    "        x_train.drop(column,axis=1)\n",
    "        x_test.drop(column,axis=1)\n",
    "    if cardinality>2:\n",
    "        mapper = lambda x: sum([ord(digit) for digit in x])\n",
    "        x_train[column]=x_train[column].apply(mapper)\n",
    "        x_test[column]=x_test[column].apply(mapper)"
   ]
  },
  {
   "cell_type": "code",
   "execution_count": 6,
   "metadata": {},
   "outputs": [
    {
     "data": {
      "text/plain": [
       "<matplotlib.axes._subplots.AxesSubplot at 0x238c1b43e80>"
      ]
     },
     "execution_count": 6,
     "metadata": {},
     "output_type": "execute_result"
    },
    {
     "data": {
      "image/png": "[encoded data removed]",
      "text/plain": [
       "<Figure size 1008x864 with 2 Axes>"
      ]
     },
     "metadata": {},
     "output_type": "display_data"
    }
   ],
   "source": [
    "# Two useful tools in feature engineering\n",
    "# Correlation matrix\n",
    "colormap = plt.cm.RdBu\n",
    "plt.figure(figsize=(14,12))\n",
    "plt.title('Pearson Correlation of Features', y=1.05, size=15)\n",
    "sns.heatmap(x_train.iloc[1:10,15:25].astype(float).corr(),linewidths=0.1,vmax=1.0, \n",
    "            square=True, cmap=colormap, linecolor='white', annot=True)"
   ]
  },
  {
   "cell_type": "code",
   "execution_count": 7,
   "metadata": {},
   "outputs": [
    {
     "data": {
      "text/plain": [
       "<seaborn.axisgrid.PairGrid at 0x238c0fa3940>"
      ]
     },
     "execution_count": 7,
     "metadata": {},
     "output_type": "execute_result"
    },
    {
     "data": {
      "image/png": "[encoded data removed]",
      "text/plain": [
       "<Figure size 540x540 with 12 Axes>"
      ]
     },
     "metadata": {},
     "output_type": "display_data"
    }
   ],
   "source": [
    "# pairplot\n",
    "pairdf=trainDF.loc[:,['X26','X380','y']]\n",
    "sns.pairplot(pairdf)"
   ]
  },
  {
   "cell_type": "markdown",
   "metadata": {},
   "source": [
    "## Ensemble and Stacking Model"
   ]
  },
  {
   "cell_type": "code",
   "execution_count": 8,
   "metadata": {},
   "outputs": [],
   "source": [
    "# create some useful parameters which will be used\n",
    "# return the number of the rows of the training data set\n",
    "ntrain=x_train.shape[0]\n",
    "# return the number of rows of the test data set\n",
    "ntest=x_test.shape[0]\n",
    "# for reproducibility \n",
    "SEED=0\n",
    "NFOLDS=5\n",
    "kf=KFold(ntrain,n_folds=NFOLDS,random_state=SEED)"
   ]
  },
  {
   "cell_type": "code",
   "execution_count": 9,
   "metadata": {},
   "outputs": [],
   "source": [
    "# build a class to extend the Sklearn regressor\n",
    "class SklearnHelper(object):\n",
    "    # def init : Python standard for invoking the default constructor for the class\n",
    "    def __init__(self,reg,seed=0,params=None):\n",
    "        params['random_state']=seed\n",
    "        self.reg=reg(**params)\n",
    "    def train(self,x_train,y_train):\n",
    "        self.reg.fit(x_train,y_train)\n",
    "    def predict(self,x):\n",
    "        return self.reg.predict(x)\n",
    "    def fit(self,x,y):\n",
    "        return self.reg.fit(x,y)\n",
    "    def feature_importance(self,x,y):\n",
    "        print (self.reg.fit(x,y).feature_importances_)"
   ]
  },
  {
   "cell_type": "code",
   "execution_count": 10,
   "metadata": {},
   "outputs": [],
   "source": [
    "# get out-of-fold predictions\n",
    "def get_oof(reg, x_train, y_train, x_test):\n",
    "    # create an zero array with the number of rows of train\n",
    "    oof_train=np.zeros((ntrain,))\n",
    "    oof_test=np.zeros((ntest,))\n",
    "    oof_test_skf=np.empty((NFOLDS,ntest))\n",
    "    \n",
    "    for i, (train_index, test_index) in enumerate(kf):\n",
    "        x_tr = x_train[train_index]\n",
    "        y_tr = y_train[train_index]\n",
    "        x_te = x_train[test_index]\n",
    "\n",
    "        reg.train(x_tr, y_tr)\n",
    "\n",
    "        oof_train[test_index] = reg.predict(x_te)\n",
    "        oof_test_skf[i, :] = reg.predict(x_test)\n",
    "\n",
    "    oof_test[:] = oof_test_skf.mean(axis=0)\n",
    "    return oof_train.reshape(-1, 1), oof_test.reshape(-1, 1)"
   ]
  },
  {
   "cell_type": "markdown",
   "metadata": {},
   "source": [
    "## Generate base first-level models"
   ]
  },
  {
   "cell_type": "code",
   "execution_count": 11,
   "metadata": {},
   "outputs": [],
   "source": [
    "# random forest regressor\n",
    "# Random Forest parameters\n",
    "rf_params = {\n",
    "    'n_jobs': -1,\n",
    "    'n_estimators': 500,\n",
    "     'warm_start': True, \n",
    "     #'max_features': 0.2,\n",
    "    'max_depth': 6,\n",
    "    'min_samples_leaf': 2,\n",
    "    'max_features' : 'sqrt',\n",
    "    'verbose': 0\n",
    "}\n",
    "\n",
    "# Extra Trees Parameters\n",
    "et_params = {\n",
    "    'n_jobs': -1,\n",
    "    'n_estimators':500,\n",
    "    #'max_features': 0.5,\n",
    "    'max_depth': 8,\n",
    "    'min_samples_leaf': 2,\n",
    "    'verbose': 0\n",
    "}\n",
    "\n",
    "# AdaBoost parameters\n",
    "ada_params = {\n",
    "    'n_estimators': 500,\n",
    "    'learning_rate' : 0.75\n",
    "}\n",
    "\n",
    "# Gradient Boosting parameters\n",
    "gb_params = {\n",
    "    'n_estimators': 100,\n",
    "     #'max_features': 0.2,\n",
    "    'max_depth': 3,\n",
    "    'min_samples_leaf': 2,\n",
    "    'verbose': 0\n",
    "}\n",
    "\n",
    "# Support Vector Classifier parameters \n",
    "svc_params = {\n",
    "    'kernel' : 'linear',\n",
    "    'C' : 0.025\n",
    "    }"
   ]
  },
  {
   "cell_type": "code",
   "execution_count": 12,
   "metadata": {},
   "outputs": [],
   "source": [
    "# prepare the new data format for the cross validation\n",
    "x_train=x_train.values # create an array of the train data\n",
    "x_test=x_test.values # create an array of the test data"
   ]
  },
  {
   "cell_type": "code",
   "execution_count": 13,
   "metadata": {},
   "outputs": [],
   "source": [
    "rf = SklearnHelper(reg=RandomForestRegressor, seed=SEED, params=rf_params)\n",
    "et = SklearnHelper(reg=ExtraTreesRegressor, seed=SEED, params=et_params)\n",
    "ada = SklearnHelper(reg=AdaBoostRegressor, seed=SEED, params=ada_params)\n",
    "gb = SklearnHelper(reg=GradientBoostingRegressor, seed=SEED, params=gb_params)"
   ]
  },
  {
   "cell_type": "code",
   "execution_count": 14,
   "metadata": {},
   "outputs": [
    {
     "name": "stdout",
     "output_type": "stream",
     "text": [
      "Training is complete\n"
     ]
    }
   ],
   "source": [
    "# Caution it will take three minutes to finish training\n",
    "et_oof_train, et_oof_test = get_oof(et, x_train, y_train, x_test) # Extra Trees\n",
    "print(\"Training is complete\")"
   ]
  },
  {
   "cell_type": "code",
   "execution_count": 20,
   "metadata": {},
   "outputs": [
    {
     "name": "stdout",
     "output_type": "stream",
     "text": [
      "Training is complete\n"
     ]
    }
   ],
   "source": [
    "# Training a random forst model much faster than extra tree\n",
    "rf_oof_train, rf_oof_test = get_oof(rf,x_train, y_train, x_test) # random forest\n",
    "print(\"Training is complete\")"
   ]
  },
  {
   "cell_type": "code",
   "execution_count": 21,
   "metadata": {},
   "outputs": [
    {
     "name": "stdout",
     "output_type": "stream",
     "text": [
      "Training is complete\n"
     ]
    }
   ],
   "source": [
    "# Traing a gradident boost model take a long time\n",
    "gb_oof_train, gb_oof_test = get_oof(gb,x_train, y_train, x_test)\n",
    "print(\"Training is complete\")"
   ]
  },
  {
   "cell_type": "code",
   "execution_count": 15,
   "metadata": {},
   "outputs": [
    {
     "name": "stdout",
     "output_type": "stream",
     "text": [
      "[3.22572496e-04 6.21993886e-05 7.43424373e-05 0.00000000e+00\n",
      " 9.92438656e-05 0.00000000e+00 1.95427234e-03 6.33501986e-07\n",
      " 5.44856583e-04 0.00000000e+00 2.04667700e-06 1.02818799e-06\n",
      " 0.00000000e+00 7.55016977e-05 0.00000000e+00 9.24647853e-04\n",
      " 0.00000000e+00 8.75966708e-05 0.00000000e+00 0.00000000e+00\n",
      " 6.78285497e-04 8.40458676e-04 0.00000000e+00 0.00000000e+00\n",
      " 0.00000000e+00 1.24291273e-03 0.00000000e+00 3.80442062e-05\n",
      " 0.00000000e+00 0.00000000e+00 0.00000000e+00 2.67382758e-04\n",
      " 1.89952164e-06 4.40909090e-06 1.12023602e-03 9.30123126e-05\n",
      " 1.26669189e-06 0.00000000e+00 1.13130441e-05 6.93373202e-04\n",
      " 0.00000000e+00 0.00000000e+00 6.31154870e-03 1.08238649e-03\n",
      " 8.73785811e-06 0.00000000e+00 0.00000000e+00 2.55966237e-05\n",
      " 1.67270953e-03 1.17278223e-03 0.00000000e+00 1.71485668e-04\n",
      " 0.00000000e+00 0.00000000e+00 0.00000000e+00 6.04409027e-06\n",
      " 9.49681725e-07 0.00000000e+00 0.00000000e+00 5.16817071e-04\n",
      " 0.00000000e+00 0.00000000e+00 0.00000000e+00 3.58469257e-07\n",
      " 4.76031701e-05 9.10870453e-04 4.88949467e-04 4.01699413e-04\n",
      " 0.00000000e+00 4.58239099e-04 0.00000000e+00 8.33844602e-04\n",
      " 8.48151125e-04 1.21428466e-04 0.00000000e+00 0.00000000e+00\n",
      " 0.00000000e+00 0.00000000e+00 0.00000000e+00 0.00000000e+00\n",
      " 0.00000000e+00 4.80092006e-04 0.00000000e+00 0.00000000e+00\n",
      " 2.53125093e-03 5.36387911e-05 4.25867259e-06 0.00000000e+00\n",
      " 3.83139637e-04 1.60491233e-05 0.00000000e+00 1.37252456e-03\n",
      " 7.52120023e-05 0.00000000e+00 3.69761615e-05 0.00000000e+00\n",
      " 0.00000000e+00 7.96952123e-05 0.00000000e+00 0.00000000e+00\n",
      " 0.00000000e+00 1.27721501e-04 4.72388952e-03 6.54653034e-06\n",
      " 0.00000000e+00 0.00000000e+00 0.00000000e+00 2.02434649e-06\n",
      " 0.00000000e+00 4.47303960e-03 1.31403229e-01 0.00000000e+00\n",
      " 0.00000000e+00 0.00000000e+00 0.00000000e+00 0.00000000e+00\n",
      " 0.00000000e+00 0.00000000e+00 9.51907605e-07 1.69078113e-04\n",
      " 1.02755970e-06 0.00000000e+00 6.33395488e-07 0.00000000e+00\n",
      " 7.02220896e-04 0.00000000e+00 1.57354856e-05 9.20933311e-04\n",
      " 0.00000000e+00 0.00000000e+00 0.00000000e+00 0.00000000e+00\n",
      " 0.00000000e+00 4.14062446e-04 0.00000000e+00 4.77121007e-05\n",
      " 3.15380083e-06 2.09291168e-04 4.12321942e-02 0.00000000e+00\n",
      " 0.00000000e+00 1.66187331e-06 1.15692778e-03 0.00000000e+00\n",
      " 6.60287885e-03 0.00000000e+00 0.00000000e+00 0.00000000e+00\n",
      " 5.05043527e-04 5.97932160e-01 0.00000000e+00 0.00000000e+00\n",
      " 0.00000000e+00 0.00000000e+00 0.00000000e+00 0.00000000e+00\n",
      " 9.42395240e-04 7.16809713e-06 0.00000000e+00 0.00000000e+00\n",
      " 0.00000000e+00 1.26930645e-06 1.85942753e-06 0.00000000e+00\n",
      " 9.03535532e-04 4.14883670e-02 2.98322868e-06 1.09619778e-04\n",
      " 0.00000000e+00 2.20291788e-05 0.00000000e+00 0.00000000e+00\n",
      " 6.33869116e-07 0.00000000e+00 1.65507776e-03 1.01015473e-04\n",
      " 4.28885112e-02 0.00000000e+00 1.66807589e-04 4.01570334e-06\n",
      " 4.38043315e-04 3.55897082e-05 2.04428089e-06 1.34773478e-06\n",
      " 0.00000000e+00 0.00000000e+00 0.00000000e+00 0.00000000e+00\n",
      " 0.00000000e+00 3.83969959e-04 0.00000000e+00 0.00000000e+00\n",
      " 0.00000000e+00 8.26123876e-04 0.00000000e+00 9.08245100e-04\n",
      " 0.00000000e+00 0.00000000e+00 0.00000000e+00 0.00000000e+00\n",
      " 1.15970593e-05 1.87200872e-04 0.00000000e+00 0.00000000e+00\n",
      " 0.00000000e+00 3.87575438e-04 0.00000000e+00 0.00000000e+00\n",
      " 0.00000000e+00 5.06263148e-05 0.00000000e+00 1.34509675e-04\n",
      " 4.67949607e-05 6.87320576e-05 0.00000000e+00 0.00000000e+00\n",
      " 0.00000000e+00 0.00000000e+00 8.56668997e-04 0.00000000e+00\n",
      " 1.58488416e-06 6.50656211e-04 0.00000000e+00 0.00000000e+00\n",
      " 0.00000000e+00 0.00000000e+00 0.00000000e+00 0.00000000e+00\n",
      " 3.17964952e-05 0.00000000e+00 2.02975993e-06 4.02012515e-04\n",
      " 6.56539401e-07 6.34123322e-07 0.00000000e+00 3.60797754e-05\n",
      " 0.00000000e+00 0.00000000e+00 7.02127556e-04 4.52385035e-05\n",
      " 0.00000000e+00 0.00000000e+00 0.00000000e+00 0.00000000e+00\n",
      " 0.00000000e+00 0.00000000e+00 3.16326119e-07 0.00000000e+00\n",
      " 0.00000000e+00 2.73639918e-03 0.00000000e+00 8.57494717e-04\n",
      " 3.96433070e-03 7.72843427e-05 0.00000000e+00 3.65328511e-05\n",
      " 6.00003007e-06 0.00000000e+00 0.00000000e+00 0.00000000e+00\n",
      " 4.30252910e-06 0.00000000e+00 1.52391588e-03 0.00000000e+00\n",
      " 0.00000000e+00 1.46094865e-06 0.00000000e+00 0.00000000e+00\n",
      " 0.00000000e+00 6.81336494e-04 9.10534708e-04 4.23005677e-04\n",
      " 2.10251228e-05 2.48462551e-05 2.48012049e-05 0.00000000e+00\n",
      " 3.62318735e-06 5.16338305e-04 1.85089164e-04 1.37739649e-03\n",
      " 2.94379411e-03 0.00000000e+00 2.22444127e-04 0.00000000e+00\n",
      " 0.00000000e+00 5.64235730e-04 1.59047450e-06 4.74719745e-05\n",
      " 3.89586708e-05 5.35573815e-05 4.29757373e-04 0.00000000e+00\n",
      " 8.48880289e-07 0.00000000e+00 1.24760938e-03 1.51108949e-05\n",
      " 0.00000000e+00 0.00000000e+00 8.70202670e-03 0.00000000e+00\n",
      " 1.61473732e-07 0.00000000e+00 6.42199587e-04 3.55459548e-05\n",
      " 0.00000000e+00 8.98762829e-06 1.97698357e-06 7.79264663e-04\n",
      " 4.31883663e-05 1.06075794e-06 0.00000000e+00 7.07338436e-04\n",
      " 3.18094386e-07 8.33880115e-05 4.94432759e-04 9.51827494e-07\n",
      " 5.16303044e-08 4.68497134e-06 0.00000000e+00 0.00000000e+00\n",
      " 0.00000000e+00 0.00000000e+00 2.04167998e-06 3.93348173e-03\n",
      " 2.08737844e-06 9.21137527e-06 2.11224141e-04 1.06606668e-06\n",
      " 1.34957009e-04 1.76281096e-06 1.82530335e-05 1.50794650e-04\n",
      " 0.00000000e+00 0.00000000e+00 3.77288597e-07 2.36869331e-05\n",
      " 0.00000000e+00 1.75762282e-03 0.00000000e+00 2.51759347e-07\n",
      " 1.94796923e-05 0.00000000e+00 0.00000000e+00 0.00000000e+00\n",
      " 2.34505016e-05 9.37787745e-04 0.00000000e+00 0.00000000e+00\n",
      " 2.50407879e-06 0.00000000e+00 0.00000000e+00 3.59653540e-03\n",
      " 1.34646855e-05 0.00000000e+00 0.00000000e+00 0.00000000e+00\n",
      " 1.20813139e-04 0.00000000e+00 0.00000000e+00 0.00000000e+00\n",
      " 0.00000000e+00 0.00000000e+00 0.00000000e+00 0.00000000e+00\n",
      " 0.00000000e+00 2.70431762e-05 1.51045741e-06 0.00000000e+00\n",
      " 4.29057498e-02 4.01854565e-05 0.00000000e+00 0.00000000e+00\n",
      " 1.01948775e-04 5.34939948e-07 3.77396559e-07 1.10093915e-03]\n"
     ]
    }
   ],
   "source": [
    "# It will take around one minute to finish training\n",
    "et_feature = et.feature_importance(x_train,y_train)"
   ]
  },
  {
   "cell_type": "markdown",
   "metadata": {},
   "source": [
    "## Second Level Predictions from first level output"
   ]
  },
  {
   "cell_type": "code",
   "execution_count": 24,
   "metadata": {},
   "outputs": [
    {
     "data": {
      "text/html": [
       "<div>\n",
       "<style scoped>\n",
       "    .dataframe tbody tr th:only-of-type {\n",
       "        vertical-align: middle;\n",
       "    }\n",
       "\n",
       "    .dataframe tbody tr th {\n",
       "        vertical-align: top;\n",
       "    }\n",
       "\n",
       "    .dataframe thead th {\n",
       "        text-align: right;\n",
       "    }\n",
       "</style>\n",
       "<table border=\"1\" class=\"dataframe\">\n",
       "  <thead>\n",
       "    <tr style=\"text-align: right;\">\n",
       "      <th></th>\n",
       "      <th>ExtraTrees</th>\n",
       "      <th>GradientBoost</th>\n",
       "      <th>RandomForest</th>\n",
       "    </tr>\n",
       "  </thead>\n",
       "  <tbody>\n",
       "    <tr>\n",
       "      <th>0</th>\n",
       "      <td>99.614201</td>\n",
       "      <td>97.845125</td>\n",
       "      <td>101.179953</td>\n",
       "    </tr>\n",
       "    <tr>\n",
       "      <th>1</th>\n",
       "      <td>107.985049</td>\n",
       "      <td>100.849324</td>\n",
       "      <td>96.482167</td>\n",
       "    </tr>\n",
       "    <tr>\n",
       "      <th>2</th>\n",
       "      <td>86.801508</td>\n",
       "      <td>72.999005</td>\n",
       "      <td>79.181374</td>\n",
       "    </tr>\n",
       "    <tr>\n",
       "      <th>3</th>\n",
       "      <td>75.977054</td>\n",
       "      <td>75.054328</td>\n",
       "      <td>78.185661</td>\n",
       "    </tr>\n",
       "    <tr>\n",
       "      <th>4</th>\n",
       "      <td>78.640527</td>\n",
       "      <td>81.270454</td>\n",
       "      <td>78.985402</td>\n",
       "    </tr>\n",
       "  </tbody>\n",
       "</table>\n",
       "</div>"
      ],
      "text/plain": [
       "   ExtraTrees  GradientBoost  RandomForest\n",
       "0   99.614201      97.845125    101.179953\n",
       "1  107.985049     100.849324     96.482167\n",
       "2   86.801508      72.999005     79.181374\n",
       "3   75.977054      75.054328     78.185661\n",
       "4   78.640527      81.270454     78.985402"
      ]
     },
     "execution_count": 24,
     "metadata": {},
     "output_type": "execute_result"
    }
   ],
   "source": [
    "base_predictions_train=pd.DataFrame({'RandomForest':rf_oof_train.ravel(),\n",
    "                                     'ExtraTrees':et_oof_train.ravel(),'GradientBoost':gb_oof_train.ravel()})\n",
    "base_predictions_train.head()"
   ]
  },
  {
   "cell_type": "code",
   "execution_count": 25,
   "metadata": {},
   "outputs": [
    {
     "data": {
      "application/vnd.plotly.v1+json": {
       "data": [
        {
         "colorscale": "Viridis",
         "reversescale": true,
         "showscale": true,
         "type": "heatmap",
         "x": [
          "ExtraTrees",
          "GradientBoost",
          "RandomForest"
         ],
         "y": [
          "ExtraTrees",
          "GradientBoost",
          "RandomForest"
         ],
         "z": [
          [
           1,
           0.9220918203387566,
           0.9430959633717183
          ],
          [
           0.9220918203387566,
           1,
           0.8935636970353904
          ],
          [
           0.9430959633717183,
           0.8935636970353904,
           1
          ]
         ]
        }
       ],
       "layout": {}
      },
      "text/html": [
       "<div id=\"e1d5b002-e6e3-4e31-9514-7bbbd9aaff80\" style=\"height: 525px; width: 100%;\" class=\"plotly-graph-div\"></div><script type=\"text/javascript\">require([\"plotly\"], function(Plotly) { window.PLOTLYENV=window.PLOTLYENV || {};window.PLOTLYENV.BASE_URL=\"https://plot.ly\";Plotly.newPlot(\"e1d5b002-e6e3-4e31-9514-7bbbd9aaff80\", [{\"type\": \"heatmap\", \"z\": [[1.0, 0.9220918203387566, 0.9430959633717183], [0.9220918203387566, 1.0, 0.8935636970353904], [0.9430959633717183, 0.8935636970353904, 1.0]], \"x\": [\"ExtraTrees\", \"GradientBoost\", \"RandomForest\"], \"y\": [\"ExtraTrees\", \"GradientBoost\", \"RandomForest\"], \"colorscale\": \"Viridis\", \"showscale\": true, \"reversescale\": true}], {}, {\"showLink\": true, \"linkText\": \"Export to plot.ly\"})});</script>"
      ],
      "text/vnd.plotly.v1+html": [
       "<div id=\"e1d5b002-e6e3-4e31-9514-7bbbd9aaff80\" style=\"height: 525px; width: 100%;\" class=\"plotly-graph-div\"></div><script type=\"text/javascript\">require([\"plotly\"], function(Plotly) { window.PLOTLYENV=window.PLOTLYENV || {};window.PLOTLYENV.BASE_URL=\"https://plot.ly\";Plotly.newPlot(\"e1d5b002-e6e3-4e31-9514-7bbbd9aaff80\", [{\"type\": \"heatmap\", \"z\": [[1.0, 0.9220918203387566, 0.9430959633717183], [0.9220918203387566, 1.0, 0.8935636970353904], [0.9430959633717183, 0.8935636970353904, 1.0]], \"x\": [\"ExtraTrees\", \"GradientBoost\", \"RandomForest\"], \"y\": [\"ExtraTrees\", \"GradientBoost\", \"RandomForest\"], \"colorscale\": \"Viridis\", \"showscale\": true, \"reversescale\": true}], {}, {\"showLink\": true, \"linkText\": \"Export to plot.ly\"})});</script>"
      ]
     },
     "metadata": {},
     "output_type": "display_data"
    }
   ],
   "source": [
    "# Correlation heatmap of the second level training set\n",
    "data = [\n",
    "    go.Heatmap(\n",
    "        z= base_predictions_train.astype(float).corr().values ,\n",
    "        x=base_predictions_train.columns.values,\n",
    "        y= base_predictions_train.columns.values,\n",
    "          colorscale='Viridis',\n",
    "            showscale=True,\n",
    "            reversescale = True\n",
    "    )\n",
    "]\n",
    "py.iplot(data, filename='labelled-heatmap')"
   ]
  },
  {
   "cell_type": "code",
   "execution_count": 28,
   "metadata": {},
   "outputs": [],
   "source": [
    "# Concatenated and joined both the first-level train and test predictions as x_train and x_test, \n",
    "# we can now fit a second-level learning model\n",
    "x_train = np.concatenate(( et_oof_train, rf_oof_train,gb_oof_train), axis=1)\n",
    "x_test = np.concatenate(( et_oof_test, rf_oof_test, gb_oof_test), axis=1)"
   ]
  },
  {
   "cell_type": "code",
   "execution_count": 30,
   "metadata": {},
   "outputs": [],
   "source": [
    "gbm = xgb.XGBRegressor(\n",
    "    #learning_rate = 0.02,\n",
    " n_estimators= 2000,\n",
    " max_depth= 3,\n",
    " min_child_weight= 2,\n",
    " #gamma=1,\n",
    " gamma=0.9,                        \n",
    " subsample=0.8,\n",
    " colsample_bytree=0.8,\n",
    " objective= 'reg:linear',\n",
    " nthread= -1,\n",
    " scale_pos_weight=1).fit(x_train, y_train)\n",
    "predictions = gbm.predict(x_test)"
   ]
  },
  {
   "cell_type": "markdown",
   "metadata": {},
   "source": [
    "## Producing the submission file"
   ]
  },
  {
   "cell_type": "code",
   "execution_count": 32,
   "metadata": {},
   "outputs": [],
   "source": [
    "StackingSubmission=pd.DataFrame()"
   ]
  },
  {
   "cell_type": "code",
   "execution_count": 38,
   "metadata": {},
   "outputs": [],
   "source": [
    "id_test = testDF['ID'].values\n",
    "StackingSubmission['id']=id_test\n",
    "StackingSubmission['y']=predictions\n",
    "StackingSubmission.to_csv('stackingsubmission.csv',index=False)"
   ]
  }
 ],
 "metadata": {
  "kernelspec": {
   "display_name": "Python 3",
   "language": "python",
   "name": "python3"
  },
  "language_info": {
   "codemirror_mode": {
    "name": "ipython",
    "version": 3
   },
   "file_extension": ".py",
   "mimetype": "text/x-python",
   "name": "python",
   "nbconvert_exporter": "python",
   "pygments_lexer": "ipython3",
   "version": "3.6.4"
  }
 },
 "nbformat": 4,
 "nbformat_minor": 2
}
