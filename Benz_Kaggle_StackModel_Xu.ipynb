{
 "cells": [
  {
   "cell_type": "markdown",
   "metadata": {},
   "source": [
    "## Prepare for the environment"
   ]
  },
  {
   "cell_type": "code",
   "execution_count": 1,
   "metadata": {},
   "outputs": [
    {
     "data": {
      "text/html": [
       "<script>requirejs.config({paths: { 'plotly': ['https://cdn.plot.ly/plotly-latest.min']},});if(!window.Plotly) {{require(['plotly'],function(plotly) {window.Plotly=plotly;});}}</script>"
      ],
      "text/vnd.plotly.v1+html": [
       "<script>requirejs.config({paths: { 'plotly': ['https://cdn.plot.ly/plotly-latest.min']},});if(!window.Plotly) {{require(['plotly'],function(plotly) {window.Plotly=plotly;});}}</script>"
      ]
     },
     "metadata": {},
     "output_type": "display_data"
    }
   ],
   "source": [
    "# Load in our libraries\n",
    "import pandas as pd\n",
    "import numpy as np\n",
    "import re\n",
    "import sklearn\n",
    "import xgboost as xgb\n",
    "import seaborn as sns\n",
    "import matplotlib.pyplot as plt\n",
    "%matplotlib inline\n",
    "\n",
    "import plotly.offline as py\n",
    "py.init_notebook_mode(connected=True)\n",
    "import plotly.graph_objs as go\n",
    "import plotly.tools as tls\n",
    "\n",
    "import warnings\n",
    "warnings.filterwarnings('ignore')\n",
    "\n",
    "# Going to use these 5 base models for the stacking\n",
    "from sklearn.ensemble import (RandomForestRegressor, AdaBoostRegressor, \n",
    "                              GradientBoostingRegressor, ExtraTreesRegressor)\n",
    "from sklearn.svm import SVR\n",
    "from sklearn.cross_validation import KFold"
   ]
  },
  {
   "cell_type": "markdown",
   "metadata": {},
   "source": [
    "## Feature Exploration, Engineering and Cleaning"
   ]
  },
  {
   "cell_type": "code",
   "execution_count": 2,
   "metadata": {},
   "outputs": [
    {
     "data": {
      "text/html": [
       "<div>\n",
       "<style scoped>\n",
       "    .dataframe tbody tr th:only-of-type {\n",
       "        vertical-align: middle;\n",
       "    }\n",
       "\n",
       "    .dataframe tbody tr th {\n",
       "        vertical-align: top;\n",
       "    }\n",
       "\n",
       "    .dataframe thead th {\n",
       "        text-align: right;\n",
       "    }\n",
       "</style>\n",
       "<table border=\"1\" class=\"dataframe\">\n",
       "  <thead>\n",
       "    <tr style=\"text-align: right;\">\n",
       "      <th></th>\n",
       "      <th>ID</th>\n",
       "      <th>y</th>\n",
       "      <th>X0</th>\n",
       "      <th>X1</th>\n",
       "      <th>X2</th>\n",
       "      <th>X3</th>\n",
       "      <th>X4</th>\n",
       "      <th>X5</th>\n",
       "      <th>X6</th>\n",
       "      <th>X8</th>\n",
       "      <th>...</th>\n",
       "      <th>X375</th>\n",
       "      <th>X376</th>\n",
       "      <th>X377</th>\n",
       "      <th>X378</th>\n",
       "      <th>X379</th>\n",
       "      <th>X380</th>\n",
       "      <th>X382</th>\n",
       "      <th>X383</th>\n",
       "      <th>X384</th>\n",
       "      <th>X385</th>\n",
       "    </tr>\n",
       "  </thead>\n",
       "  <tbody>\n",
       "    <tr>\n",
       "      <th>0</th>\n",
       "      <td>0</td>\n",
       "      <td>130.81</td>\n",
       "      <td>k</td>\n",
       "      <td>v</td>\n",
       "      <td>at</td>\n",
       "      <td>a</td>\n",
       "      <td>d</td>\n",
       "      <td>u</td>\n",
       "      <td>j</td>\n",
       "      <td>o</td>\n",
       "      <td>...</td>\n",
       "      <td>0</td>\n",
       "      <td>0</td>\n",
       "      <td>1</td>\n",
       "      <td>0</td>\n",
       "      <td>0</td>\n",
       "      <td>0</td>\n",
       "      <td>0</td>\n",
       "      <td>0</td>\n",
       "      <td>0</td>\n",
       "      <td>0</td>\n",
       "    </tr>\n",
       "    <tr>\n",
       "      <th>1</th>\n",
       "      <td>6</td>\n",
       "      <td>88.53</td>\n",
       "      <td>k</td>\n",
       "      <td>t</td>\n",
       "      <td>av</td>\n",
       "      <td>e</td>\n",
       "      <td>d</td>\n",
       "      <td>y</td>\n",
       "      <td>l</td>\n",
       "      <td>o</td>\n",
       "      <td>...</td>\n",
       "      <td>1</td>\n",
       "      <td>0</td>\n",
       "      <td>0</td>\n",
       "      <td>0</td>\n",
       "      <td>0</td>\n",
       "      <td>0</td>\n",
       "      <td>0</td>\n",
       "      <td>0</td>\n",
       "      <td>0</td>\n",
       "      <td>0</td>\n",
       "    </tr>\n",
       "    <tr>\n",
       "      <th>2</th>\n",
       "      <td>7</td>\n",
       "      <td>76.26</td>\n",
       "      <td>az</td>\n",
       "      <td>w</td>\n",
       "      <td>n</td>\n",
       "      <td>c</td>\n",
       "      <td>d</td>\n",
       "      <td>x</td>\n",
       "      <td>j</td>\n",
       "      <td>x</td>\n",
       "      <td>...</td>\n",
       "      <td>0</td>\n",
       "      <td>0</td>\n",
       "      <td>0</td>\n",
       "      <td>0</td>\n",
       "      <td>0</td>\n",
       "      <td>0</td>\n",
       "      <td>1</td>\n",
       "      <td>0</td>\n",
       "      <td>0</td>\n",
       "      <td>0</td>\n",
       "    </tr>\n",
       "  </tbody>\n",
       "</table>\n",
       "<p>3 rows × 378 columns</p>\n",
       "</div>"
      ],
      "text/plain": [
       "   ID       y  X0 X1  X2 X3 X4 X5 X6 X8  ...   X375  X376  X377  X378  X379  \\\n",
       "0   0  130.81   k  v  at  a  d  u  j  o  ...      0     0     1     0     0   \n",
       "1   6   88.53   k  t  av  e  d  y  l  o  ...      1     0     0     0     0   \n",
       "2   7   76.26  az  w   n  c  d  x  j  x  ...      0     0     0     0     0   \n",
       "\n",
       "   X380  X382  X383  X384  X385  \n",
       "0     0     0     0     0     0  \n",
       "1     0     0     0     0     0  \n",
       "2     0     1     0     0     0  \n",
       "\n",
       "[3 rows x 378 columns]"
      ]
     },
     "execution_count": 2,
     "metadata": {},
     "output_type": "execute_result"
    }
   ],
   "source": [
    "trainDF=pd.read_csv(\"train.csv\")\n",
    "# observe the data\n",
    "trainDF.head(3)"
   ]
  },
  {
   "cell_type": "code",
   "execution_count": 3,
   "metadata": {},
   "outputs": [
    {
     "data": {
      "text/plain": [
       "int64     368\n",
       "object      8\n",
       "dtype: int64"
      ]
     },
     "execution_count": 3,
     "metadata": {},
     "output_type": "execute_result"
    }
   ],
   "source": [
    "# get a list of all the independent variables\n",
    "cols=[c for c in trainDF.columns if 'X' in c]\n",
    "# use data types to check how many quantitative variables and how many categorical variables\n",
    "trainDF[cols].dtypes.value_counts()"
   ]
  },
  {
   "cell_type": "markdown",
   "metadata": {},
   "source": [
    "We havev 368 quantitative variables and 8 categorical variables "
   ]
  },
  {
   "cell_type": "code",
   "execution_count": 4,
   "metadata": {},
   "outputs": [],
   "source": [
    "independent_columns=list(set(trainDF.columns) - set(['ID', 'y']))\n",
    "y_train=trainDF['y'].values\n",
    "x_train=trainDF[independent_columns]\n",
    "testDF=pd.read_csv(\"test.csv\")\n",
    "x_test=testDF[independent_columns]"
   ]
  },
  {
   "cell_type": "code",
   "execution_count": 5,
   "metadata": {},
   "outputs": [],
   "source": [
    "# Feature engineering steps for categorical variables\n",
    "for column in independent_columns:\n",
    "    cardinality=len(np.unique(x_train[column]))\n",
    "    if cardinality==1:\n",
    "        x_train.drop(column,axis=1)\n",
    "        x_test.drop(column,axis=1)\n",
    "    if cardinality>2:\n",
    "        mapper = lambda x: sum([ord(digit) for digit in x])\n",
    "        x_train[column]=x_train[column].apply(mapper)\n",
    "        x_test[column]=x_test[column].apply(mapper)"
   ]
  },
  {
   "cell_type": "code",
   "execution_count": 6,
   "metadata": {},
   "outputs": [
    {
     "data": {
      "text/plain": [
       "<matplotlib.axes._subplots.AxesSubplot at 0x1a52a783438>"
      ]
     },
     "execution_count": 6,
     "metadata": {},
     "output_type": "execute_result"
    },
    {
     "data": {
      "image/png": "[encoded data removed]",
      "text/plain": [
       "<Figure size 1008x864 with 2 Axes>"
      ]
     },
     "metadata": {},
     "output_type": "display_data"
    }
   ],
   "source": [
    "# Two useful tools in feature engineering\n",
    "# Correlation matrix\n",
    "colormap = plt.cm.RdBu\n",
    "plt.figure(figsize=(14,12))\n",
    "plt.title('Pearson Correlation of Features', y=1.05, size=15)\n",
    "sns.heatmap(x_train.iloc[1:10,15:25].astype(float).corr(),linewidths=0.1,vmax=1.0, \n",
    "            square=True, cmap=colormap, linecolor='white', annot=True)"
   ]
  },
  {
   "cell_type": "code",
   "execution_count": 7,
   "metadata": {},
   "outputs": [
    {
     "data": {
      "text/plain": [
       "<seaborn.axisgrid.PairGrid at 0x1a535a2c6d8>"
      ]
     },
     "execution_count": 7,
     "metadata": {},
     "output_type": "execute_result"
    },
    {
     "data": {
      "image/png": "[encoded data removed]",
      "text/plain": [
       "<Figure size 540x540 with 12 Axes>"
      ]
     },
     "metadata": {},
     "output_type": "display_data"
    }
   ],
   "source": [
    "# pairplot\n",
    "pairdf=trainDF.loc[:,['X26','X380','y']]\n",
    "sns.pairplot(pairdf)"
   ]
  },
  {
   "cell_type": "markdown",
   "metadata": {},
   "source": [
    "## Ensemble and Stacking Model"
   ]
  },
  {
   "cell_type": "code",
   "execution_count": 6,
   "metadata": {},
   "outputs": [],
   "source": [
    "# create some useful parameters which will be used\n",
    "# return the number of the rows of the training data set\n",
    "ntrain=x_train.shape[0]\n",
    "# return the number of rows of the test data set\n",
    "ntest=x_test.shape[0]\n",
    "# for reproducibility \n",
    "SEED=0\n",
    "NFOLDS=5\n",
    "kf=KFold(ntrain,n_folds=NFOLDS,random_state=SEED)"
   ]
  },
  {
   "cell_type": "code",
   "execution_count": 7,
   "metadata": {},
   "outputs": [],
   "source": [
    "# build a class to extend the Sklearn regressor\n",
    "class SklearnHelper(object):\n",
    "    # def init : Python standard for invoking the default constructor for the class\n",
    "    def __init__(self,reg,seed=0,params=None):\n",
    "        params['random_state']=seed\n",
    "        self.reg=reg(**params)\n",
    "    def train(self,x_train,y_train):\n",
    "        self.reg.fit(x_train,y_train)\n",
    "    def predict(self,x):\n",
    "        return self.reg.predict(x)\n",
    "    def fit(self,x,y):\n",
    "        return self.reg.fit(x,y)\n",
    "    def feature_importance(self,x,y):\n",
    "        print (self.reg.fit(x,y).feature_importances_)"
   ]
  },
  {
   "cell_type": "code",
   "execution_count": 8,
   "metadata": {},
   "outputs": [],
   "source": [
    "# get out-of-fold predictions\n",
    "def get_oof(reg, x_train, y_train, x_test):\n",
    "    # create an zero array with the number of rows of train\n",
    "    oof_train=np.zeros((ntrain,))\n",
    "    oof_test=np.zeros((ntest,))\n",
    "    oof_test_skf=np.empty((NFOLDS,ntest))\n",
    "    \n",
    "    for i, (train_index, test_index) in enumerate(kf):\n",
    "        x_tr = x_train[train_index]\n",
    "        y_tr = y_train[train_index]\n",
    "        x_te = x_train[test_index]\n",
    "\n",
    "        reg.train(x_tr, y_tr)\n",
    "\n",
    "        oof_train[test_index] = reg.predict(x_te)\n",
    "        oof_test_skf[i, :] = reg.predict(x_test)\n",
    "\n",
    "    oof_test[:] = oof_test_skf.mean(axis=0)\n",
    "    return oof_train.reshape(-1, 1), oof_test.reshape(-1, 1)"
   ]
  },
  {
   "cell_type": "markdown",
   "metadata": {},
   "source": [
    "## Generate base first-level models"
   ]
  },
  {
   "cell_type": "code",
   "execution_count": 9,
   "metadata": {},
   "outputs": [],
   "source": [
    "# random forest regressor\n",
    "# Random Forest parameters\n",
    "rf_params = {\n",
    "    'n_jobs': -1,\n",
    "    'n_estimators': 500,\n",
    "     'warm_start': True, \n",
    "     #'max_features': 0.2,\n",
    "    'max_depth': 6,\n",
    "    'min_samples_leaf': 2,\n",
    "    'max_features' : 'sqrt',\n",
    "    'verbose': 0\n",
    "}\n",
    "\n",
    "# Extra Trees Parameters\n",
    "et_params = {\n",
    "    'n_jobs': -1,\n",
    "    'n_estimators':500,\n",
    "    #'max_features': 0.5,\n",
    "    'max_depth': 8,\n",
    "    'min_samples_leaf': 2,\n",
    "    'verbose': 0\n",
    "}\n",
    "\n",
    "# AdaBoost parameters\n",
    "ada_params = {\n",
    "    'n_estimators': 500,\n",
    "    'learning_rate' : 0.75\n",
    "}\n",
    "\n",
    "# Gradient Boosting parameters\n",
    "gb_params = {\n",
    "    'n_estimators': 500,\n",
    "     #'max_features': 0.2,\n",
    "    'max_depth': 5,\n",
    "    'min_samples_leaf': 2,\n",
    "    'verbose': 0\n",
    "}\n",
    "\n",
    "# Support Vector Classifier parameters \n",
    "svc_params = {\n",
    "    'kernel' : 'linear',\n",
    "    'C' : 0.025\n",
    "    }"
   ]
  },
  {
   "cell_type": "code",
   "execution_count": 11,
   "metadata": {},
   "outputs": [],
   "source": [
    "# prepare the new data format for the cross validation\n",
    "x_train=x_train.values # create an array of the train data\n",
    "x_test=x_test.values # create an array of the test data"
   ]
  },
  {
   "cell_type": "code",
   "execution_count": 13,
   "metadata": {},
   "outputs": [],
   "source": [
    "rf = SklearnHelper(reg=RandomForestRegressor, seed=SEED, params=rf_params)\n",
    "et = SklearnHelper(reg=ExtraTreesRegressor, seed=SEED, params=et_params)\n",
    "ada = SklearnHelper(reg=AdaBoostRegressor, seed=SEED, params=ada_params)\n",
    "gb = SklearnHelper(reg=GradientBoostingRegressor, seed=SEED, params=gb_params)"
   ]
  },
  {
   "cell_type": "code",
   "execution_count": 15,
   "metadata": {},
   "outputs": [
    {
     "name": "stdout",
     "output_type": "stream",
     "text": [
      "Training is complete\n"
     ]
    }
   ],
   "source": [
    "# Caution it will take three minutes to finish training\n",
    "et_oof_train, et_oof_test = get_oof(et, x_train, y_train, x_test) # Extra Trees\n",
    "print(\"Training is complete\")"
   ]
  },
  {
   "cell_type": "code",
   "execution_count": 17,
   "metadata": {},
   "outputs": [
    {
     "name": "stdout",
     "output_type": "stream",
     "text": [
      "[0.00000000e+00 5.02838961e-06 1.03217926e-05 0.00000000e+00\n",
      " 0.00000000e+00 0.00000000e+00 2.07645967e-05 0.00000000e+00\n",
      " 0.00000000e+00 0.00000000e+00 0.00000000e+00 8.56322352e-05\n",
      " 7.07417720e-04 1.90403382e-06 0.00000000e+00 0.00000000e+00\n",
      " 5.26721151e-05 9.50483273e-07 6.99353207e-07 2.37631785e-06\n",
      " 8.05899249e-04 0.00000000e+00 0.00000000e+00 0.00000000e+00\n",
      " 0.00000000e+00 5.33828719e-03 1.10008804e-03 0.00000000e+00\n",
      " 0.00000000e+00 5.30062708e-05 1.67121362e-03 0.00000000e+00\n",
      " 8.38938494e-04 5.14046274e-04 0.00000000e+00 9.55650110e-05\n",
      " 1.21311222e-04 5.21731969e-05 0.00000000e+00 0.00000000e+00\n",
      " 4.10179233e-02 0.00000000e+00 2.12567761e-05 3.37267411e-05\n",
      " 0.00000000e+00 0.00000000e+00 0.00000000e+00 0.00000000e+00\n",
      " 0.00000000e+00 5.69033756e-06 1.25908373e-05 0.00000000e+00\n",
      " 0.00000000e+00 8.21380837e-05 5.39309115e-04 0.00000000e+00\n",
      " 3.36525963e-03 1.95485738e-03 8.70509329e-03 4.95722922e-05\n",
      " 0.00000000e+00 2.67412729e-04 0.00000000e+00 4.57636727e-02\n",
      " 2.59043858e-03 0.00000000e+00 0.00000000e+00 0.00000000e+00\n",
      " 0.00000000e+00 8.01063584e-05 0.00000000e+00 3.24044662e-04\n",
      " 3.91402951e-04 0.00000000e+00 4.56251371e-05 0.00000000e+00\n",
      " 0.00000000e+00 7.40178275e-05 4.46492933e-03 0.00000000e+00\n",
      " 0.00000000e+00 0.00000000e+00 1.17524799e-03 1.25162874e-03\n",
      " 0.00000000e+00 2.91171967e-06 5.14406943e-04 6.35322997e-07\n",
      " 0.00000000e+00 0.00000000e+00 6.34290300e-07 0.00000000e+00\n",
      " 0.00000000e+00 0.00000000e+00 1.95167285e-04 0.00000000e+00\n",
      " 0.00000000e+00 3.62330903e-05 0.00000000e+00 4.12313705e-06\n",
      " 8.98075402e-07 3.87696817e-04 0.00000000e+00 0.00000000e+00\n",
      " 0.00000000e+00 0.00000000e+00 6.33683352e-07 1.38309165e-04\n",
      " 0.00000000e+00 7.89369646e-04 0.00000000e+00 0.00000000e+00\n",
      " 6.93602865e-04 1.26757355e-06 2.73034888e-05 1.34439035e-04\n",
      " 4.30379199e-04 1.16247051e-04 3.94859044e-03 0.00000000e+00\n",
      " 0.00000000e+00 4.11189556e-05 5.73197440e-04 0.00000000e+00\n",
      " 1.73132271e-05 0.00000000e+00 0.00000000e+00 0.00000000e+00\n",
      " 9.44623722e-05 0.00000000e+00 0.00000000e+00 0.00000000e+00\n",
      " 2.07049201e-06 0.00000000e+00 4.53991183e-06 0.00000000e+00\n",
      " 1.23765415e-03 2.67923418e-05 1.76914265e-04 6.75783231e-04\n",
      " 3.70972212e-04 6.50478827e-06 0.00000000e+00 1.64991576e-04\n",
      " 0.00000000e+00 2.69158120e-05 0.00000000e+00 0.00000000e+00\n",
      " 2.21727065e-06 1.31417958e-01 0.00000000e+00 1.31041517e-05\n",
      " 0.00000000e+00 0.00000000e+00 0.00000000e+00 0.00000000e+00\n",
      " 9.27939100e-05 6.20521642e-06 0.00000000e+00 0.00000000e+00\n",
      " 1.10409861e-03 3.98084821e-04 8.06753742e-06 0.00000000e+00\n",
      " 4.92504420e-04 0.00000000e+00 0.00000000e+00 0.00000000e+00\n",
      " 0.00000000e+00 0.00000000e+00 0.00000000e+00 5.48696472e-05\n",
      " 4.21986321e-04 0.00000000e+00 7.97217558e-04 9.88099277e-05\n",
      " 0.00000000e+00 9.09785952e-04 0.00000000e+00 1.09577451e-04\n",
      " 0.00000000e+00 0.00000000e+00 2.83968522e-06 0.00000000e+00\n",
      " 9.24110656e-04 9.82340638e-04 0.00000000e+00 2.45947376e-05\n",
      " 9.35466397e-05 3.77145585e-05 0.00000000e+00 1.18995133e-04\n",
      " 0.00000000e+00 0.00000000e+00 3.14505243e-07 0.00000000e+00\n",
      " 3.38978475e-06 2.70330194e-06 0.00000000e+00 0.00000000e+00\n",
      " 1.84986607e-05 1.58531374e-06 0.00000000e+00 0.00000000e+00\n",
      " 1.26858719e-06 6.25298582e-04 4.62477258e-02 8.35280933e-04\n",
      " 3.78579313e-03 1.74211837e-04 0.00000000e+00 7.15859159e-04\n",
      " 1.37833023e-03 1.81332394e-06 0.00000000e+00 0.00000000e+00\n",
      " 0.00000000e+00 2.96247797e-05 1.17821376e-05 1.23291370e-04\n",
      " 8.72525840e-05 0.00000000e+00 6.59251032e-04 7.29493042e-04\n",
      " 6.34683354e-07 1.91370348e-05 0.00000000e+00 6.34818689e-07\n",
      " 6.49339127e-06 8.56665000e-04 0.00000000e+00 8.39985965e-07\n",
      " 4.48227116e-04 7.85142542e-04 2.22343424e-04 1.41638262e-05\n",
      " 9.03533520e-04 1.71888173e-06 1.65509139e-03 0.00000000e+00\n",
      " 1.75878245e-03 1.34557059e-04 0.00000000e+00 0.00000000e+00\n",
      " 1.40102065e-06 0.00000000e+00 6.50892469e-04 1.52026667e-03\n",
      " 0.00000000e+00 3.64265538e-05 4.04587188e-05 0.00000000e+00\n",
      " 2.98485320e-06 0.00000000e+00 0.00000000e+00 2.54092941e-07\n",
      " 4.10855886e-03 4.03610802e-04 0.00000000e+00 0.00000000e+00\n",
      " 0.00000000e+00 4.76607740e-04 0.00000000e+00 0.00000000e+00\n",
      " 0.00000000e+00 3.14397085e-07 0.00000000e+00 3.99899089e-03\n",
      " 5.97999181e-01 3.18067764e-07 0.00000000e+00 2.21085405e-04\n",
      " 0.00000000e+00 0.00000000e+00 0.00000000e+00 4.08825308e-07\n",
      " 0.00000000e+00 0.00000000e+00 0.00000000e+00 0.00000000e+00\n",
      " 1.91451441e-06 4.17906470e-05 1.09113540e-07 1.32196894e-05\n",
      " 0.00000000e+00 3.60734407e-03 0.00000000e+00 7.07163173e-05\n",
      " 0.00000000e+00 8.05344350e-05 0.00000000e+00 0.00000000e+00\n",
      " 3.83847314e-02 0.00000000e+00 0.00000000e+00 0.00000000e+00\n",
      " 3.09925655e-06 0.00000000e+00 1.02701607e-05 0.00000000e+00\n",
      " 0.00000000e+00 3.60174406e-07 0.00000000e+00 0.00000000e+00\n",
      " 7.62269791e-06 0.00000000e+00 0.00000000e+00 1.06001771e-04\n",
      " 0.00000000e+00 3.99181385e-04 0.00000000e+00 1.34438592e-06\n",
      " 1.26134325e-06 7.33451267e-06 3.46043539e-07 0.00000000e+00\n",
      " 2.98713859e-05 0.00000000e+00 1.20893137e-03 0.00000000e+00\n",
      " 0.00000000e+00 3.21413128e-05 0.00000000e+00 4.40391359e-07\n",
      " 1.61246714e-07 0.00000000e+00 1.60056319e-06 0.00000000e+00\n",
      " 0.00000000e+00 5.06055498e-04 6.70105384e-04 3.94762106e-03\n",
      " 5.79896888e-05 4.78733838e-04 0.00000000e+00 0.00000000e+00\n",
      " 9.19117848e-04 0.00000000e+00 9.50588296e-04 2.92047651e-06\n",
      " 0.00000000e+00 4.00891472e-05 4.21562298e-05 0.00000000e+00\n",
      " 0.00000000e+00 0.00000000e+00 0.00000000e+00 8.58957165e-04\n",
      " 2.91981639e-06 5.71117905e-04 0.00000000e+00 0.00000000e+00\n",
      " 0.00000000e+00 0.00000000e+00 0.00000000e+00 0.00000000e+00\n",
      " 1.15149146e-05 0.00000000e+00 0.00000000e+00 0.00000000e+00\n",
      " 0.00000000e+00 0.00000000e+00 1.24238580e-03 0.00000000e+00\n",
      " 0.00000000e+00 0.00000000e+00 0.00000000e+00 0.00000000e+00\n",
      " 1.14823631e-03 0.00000000e+00 3.33959353e-06 0.00000000e+00\n",
      " 1.09237573e-06 1.03353955e-07 0.00000000e+00 1.84390724e-04]\n"
     ]
    }
   ],
   "source": [
    "# It will take around one minute to finish training\n",
    "et_feature = et.feature_importance(x_train,y_train)"
   ]
  }
 ],
 "metadata": {
  "kernelspec": {
   "display_name": "Python 3",
   "language": "python",
   "name": "python3"
  },
  "language_info": {
   "codemirror_mode": {
    "name": "ipython",
    "version": 3
   },
   "file_extension": ".py",
   "mimetype": "text/x-python",
   "name": "python",
   "nbconvert_exporter": "python",
   "pygments_lexer": "ipython3",
   "version": "3.6.4"
  }
 },
 "nbformat": 4,
 "nbformat_minor": 2
}
